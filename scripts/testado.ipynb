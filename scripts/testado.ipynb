{
 "cells": [
  {
   "cell_type": "code",
   "execution_count": 1,
   "metadata": {},
   "outputs": [],
   "source": [
    "import pandas as pd\n",
    "import spacy\n",
    "from presidio_anonymizer import AnonymizerEngine\n",
    "from presidio_anonymizer.entities import RecognizerResult\n",
    "from presidio_analyzer import AnalyzerEngine, Pattern, PatternRecognizer, RecognizerRegistry\n",
    "from presidio_analyzer.nlp_engine import NlpEngineProvider, NlpArtifacts\n",
    "from typing import List\n",
    "import multiprocessing\n",
    "from tqdm import tqdm\n",
    "import numpy as np\n",
    "from pyspark.sql import SparkSession\n",
    "from pyspark.sql.functions import udf\n",
    "from pyspark.sql.types import StringType"
   ]
  },
  {
   "cell_type": "code",
   "execution_count": 8,
   "metadata": {},
   "outputs": [],
   "source": [
    "data = pd.read_csv(\"../data/clean_data.csv\", index_col=0)"
   ]
  },
  {
   "cell_type": "code",
   "execution_count": 3,
   "metadata": {},
   "outputs": [
    {
     "data": {
      "text/plain": [
       "fecha_de_ingreso             object\n",
       "dependencia                  object\n",
       "organo_de_gobierno           object\n",
       "descripcion_solicitud        object\n",
       "estatus                      object\n",
       "medio_entrada                object\n",
       "otros_datos                  object\n",
       "fecha_limite_de_respuesta    object\n",
       "respuesta                    object\n",
       "texto_de_la_respuesta        object\n",
       "pais                         object\n",
       "estado                       object\n",
       "fecha_respuesta              object\n",
       "dtype: object"
      ]
     },
     "execution_count": 3,
     "metadata": {},
     "output_type": "execute_result"
    }
   ],
   "source": [
    "data.dtypes"
   ]
  },
  {
   "cell_type": "code",
   "execution_count": 15,
   "metadata": {},
   "outputs": [],
   "source": [
    "data['fecha_de_ingreso'] = pd.to_datetime(data['fecha_de_ingreso'])\n",
    "data['fecha_limite_de_respuesta'] = pd.to_datetime(data['fecha_limite_de_respuesta'])\n",
    "data['fecha_respuesta'] = pd.to_datetime(data['fecha_respuesta'])\n",
    "data['descripcion_solicitud'] = data['descripcion_solicitud'].astype('string')\n",
    "data[\"otros_datos\"] = data[\"otros_datos\"].astype(\"string\")\n",
    "data[\"dependencia\"] = data[\"dependencia\"].astype(\"string\")\n",
    "data[\"organo_de_gobierno\"] = data[\"organo_de_gobierno\"].astype(\"string\")\n",
    "data[\"estatus\"] = data[\"estatus\"].astype(\"string\")\n",
    "data[\"medio_entrada\"] = data[\"medio_entrada\"].astype(\"string\")\n",
    "data[\"respuesta\"] = data[\"respuesta\"].astype(\"string\")\n",
    "data[\"texto_de_la_respuesta\"] = data[\"texto_de_la_respuesta\"].astype(\"string\")\n",
    "data[\"pais\"] = data[\"pais\"].astype(\"string\")\n",
    "data[\"estado\"] = data[\"estado\"].astype(\"string\")"
   ]
  },
  {
   "cell_type": "code",
   "execution_count": 5,
   "metadata": {},
   "outputs": [
    {
     "data": {
      "text/plain": [
       "fecha_de_ingreso             datetime64[ns]\n",
       "dependencia                          string\n",
       "organo_de_gobierno                   string\n",
       "descripcion_solicitud                string\n",
       "estatus                              string\n",
       "medio_entrada                        string\n",
       "otros_datos                          string\n",
       "fecha_limite_de_respuesta    datetime64[ns]\n",
       "respuesta                            string\n",
       "texto_de_la_respuesta                string\n",
       "pais                                 string\n",
       "estado                               string\n",
       "fecha_respuesta              datetime64[ns]\n",
       "dtype: object"
      ]
     },
     "execution_count": 5,
     "metadata": {},
     "output_type": "execute_result"
    }
   ],
   "source": [
    "data.dtypes"
   ]
  },
  {
   "cell_type": "markdown",
   "metadata": {},
   "source": [
    "## Testado"
   ]
  },
  {
   "cell_type": "code",
   "execution_count": 2,
   "metadata": {},
   "outputs": [],
   "source": [
    "configuration = {\n",
    "    \"nlp_engine_name\": \"spacy\",\n",
    "    \"models\": [\n",
    "        {\"lang_code\": \"es\", \"model_name\": \"es_core_news_sm\"},\n",
    "        {\"lang_code\": \"en\", \"model_name\": \"en_core_web_lg\"},\n",
    "    ],\n",
    "}\n",
    "provider = NlpEngineProvider(nlp_configuration=configuration)\n",
    "nlp_engine_with_spanish = provider.create_engine()\n",
    "analyzer = AnalyzerEngine(nlp_engine=nlp_engine_with_spanish, supported_languages=[\"en\", \"es\"])"
   ]
  },
  {
   "cell_type": "code",
   "execution_count": 3,
   "metadata": {},
   "outputs": [],
   "source": [
    "# Define el patrón regex en un objeto `Pattern` de Presidio:\n",
    "curp_pattern = Pattern(name=\"custom_pattern\", regex=r\"\\b[a-zA-Z0-9]{18}\\b\", score=0.5)\n",
    "\n",
    "# Define el reconocedor con uno o más patrones\n",
    "curp_recognizer = PatternRecognizer(\n",
    "    supported_entity=\"CURP\", patterns=[curp_pattern]\n",
    ")\n",
    "# Prueba el reconocedor en sí mismo\n",
    "#text = \"Este es un ejemplo de texto con una cadena de 18 caracteres: ABC123xyz456789012\"\n",
    "\n",
    "#custom_result = curp_recognizer.analyze(text=text, entities=[\"CURP\"])\n",
    "\n",
    "#print(\"Resultado:\")\n",
    "#print(custom_result)"
   ]
  },
  {
   "cell_type": "code",
   "execution_count": 4,
   "metadata": {},
   "outputs": [],
   "source": [
    "# Define el patrón regex en un objeto `Pattern` de Presidio\n",
    "rfc_pattern = Pattern(name=\"custom_pattern\", regex=r\"\\b[A-Z]{4}\\d{7}[A-Z]\\d\\b\", score=0.5)\n",
    "\n",
    "# Define el reconocedor con uno o más patrones\n",
    "rfc_recognizer = PatternRecognizer(\n",
    "    supported_entity=\"RFC\", patterns=[rfc_pattern]\n",
    ")\n",
    "# Prueba el reconocedor en sí mismo\n",
    "#text = \"Este es un ejemplo de texto con una cadena de 18 caracteres: TRSG9302078A8\"\n",
    "\n",
    "#custom_result = rfc_recognizer.analyze(text=text, entities=[\"RFC\"])\n",
    "\n",
    "#print(\"Resultado:\")\n",
    "#print(custom_result)"
   ]
  },
  {
   "cell_type": "code",
   "execution_count": 5,
   "metadata": {},
   "outputs": [],
   "source": [
    "# Add the recognizer to the existing list of recognizers\n",
    "analyzer.registry.add_recognizer(curp_recognizer)\n",
    "analyzer.registry.add_recognizer(rfc_recognizer)"
   ]
  },
  {
   "cell_type": "code",
   "execution_count": 6,
   "metadata": {},
   "outputs": [],
   "source": [
    "engine = AnonymizerEngine()"
   ]
  },
  {
   "cell_type": "code",
   "execution_count": 11,
   "metadata": {},
   "outputs": [],
   "source": [
    "#texto = \"JISD9308096A5 que tal me gustaria saber la estadistica de delincuencia que existe en la COLONIA ÁLAMOS, JISD930809hdfmnv04 DELEGACION BENITO JUAREZ, ademas de la estadistica de prostitución y drogadicción de la misma colonia que esta dentro de esa delegación. Mi nombre es Eloisa Huerta Lara, mi domicilio es Segovia 59 col. álamos, la informacion la solicito por correo electronico, el cual es magycal_onpu@hotmail.com, eloisahl@yahoo.com.mx, o por este mismo mediO.gracias\"\n",
    "#resultados0 = analyzer.analyze(text=texto, language=\"es\")\n",
    "#resultados1 = rfc_recognizer.analyze(text=texto, entities=[\"RFC\"])\n",
    "#resultados2 = curp_recognizer.analyze(text=texto, entities=[\"CURP\"])\n",
    "#print(resultados2)"
   ]
  },
  {
   "cell_type": "code",
   "execution_count": 12,
   "metadata": {},
   "outputs": [],
   "source": [
    "#resultados_combinados = resultados0 + resultados1 + resultados2"
   ]
  },
  {
   "cell_type": "code",
   "execution_count": 13,
   "metadata": {},
   "outputs": [],
   "source": [
    "#testado = engine.anonymize(text=texto, analyzer_results=resultados_combinados)\n",
    "#print(testado.text)"
   ]
  },
  {
   "cell_type": "code",
   "execution_count": 11,
   "metadata": {},
   "outputs": [],
   "source": [
    "def anonymize_df_column(df, column):\n",
    "    \"\"\"\n",
    "    This function takes a dataframe and a column name as input, \n",
    "    and anonymizes the values in the specified column.\n",
    "    \n",
    "    Parameters:\n",
    "    df (pd.DataFrame): The dataframe containing the column to be anonymized.\n",
    "    column (str): The name of the column to be anonymized.\n",
    "    \n",
    "    Returns:\n",
    "    df (pd.DataFrame): The dataframe with the anonymized column.\n",
    "    \"\"\"\n",
    "    \n",
    "    # Define a function for anonymization\n",
    "    def anonymize_text(text):\n",
    "        resultados0 = analyzer.analyze(text=text, language=\"es\")\n",
    "        resultados1 = rfc_recognizer.analyze(text=text, entities=[\"RFC\"])\n",
    "        resultados2 = curp_recognizer.analyze(text=text, entities=[\"CURP\"])\n",
    "        resultados_combinados = resultados0 + resultados1 + resultados2\n",
    "        texto_anonimizado = engine.anonymize(text=text, analyzer_results=resultados_combinados).text\n",
    "        return texto_anonimizado\n",
    "    \n",
    "    # Apply the anonymization function to the specified column\n",
    "    df[column] = df[column].apply(anonymize_text)\n",
    "    \n",
    "    return df"
   ]
  },
  {
   "cell_type": "code",
   "execution_count": 32,
   "metadata": {},
   "outputs": [
    {
     "data": {
      "text/plain": [
       "fecha_de_ingreso             datetime64[ns]\n",
       "dependencia                          string\n",
       "organo_de_gobierno                   string\n",
       "descripcion_solicitud                string\n",
       "estatus                              string\n",
       "medio_entrada                        string\n",
       "otros_datos                          string\n",
       "fecha_limite_de_respuesta    datetime64[ns]\n",
       "respuesta                            string\n",
       "texto_de_la_respuesta                string\n",
       "pais                                 string\n",
       "estado                               string\n",
       "fecha_respuesta              datetime64[ns]\n",
       "dtype: object"
      ]
     },
     "execution_count": 32,
     "metadata": {},
     "output_type": "execute_result"
    }
   ],
   "source": [
    "sample_df = data.sample(n=10000, random_state=42)\n",
    "sample_df.dtypes"
   ]
  },
  {
   "cell_type": "code",
   "execution_count": 12,
   "metadata": {},
   "outputs": [],
   "source": [
    "prueba = anonymize_df_column(sample_df, \"descripcion_solicitud\")"
   ]
  },
  {
   "cell_type": "code",
   "execution_count": 42,
   "metadata": {},
   "outputs": [],
   "source": [
    "def anonymize_df_column(df, column):\n",
    "    \"\"\"\n",
    "    This function takes a dataframe and a column name as input, \n",
    "    and anonymizes the values in the specified column.\n",
    "    \n",
    "    Parameters:\n",
    "    df (pd.DataFrame): The dataframe containing the column to be anonymized.\n",
    "    column (str): The name of the column to be anonymized.\n",
    "    \n",
    "    Returns:\n",
    "    df (pd.DataFrame): The dataframe with the anonymized column.\n",
    "    \"\"\"\n",
    "    \n",
    "    def anonymize_text(text):\n",
    "        if isinstance(text, str):\n",
    "            resultados0 = analyzer.analyze(text=text, language=\"es\")\n",
    "            resultados1 = rfc_recognizer.analyze(text=text, entities=[\"RFC\"])\n",
    "            resultados2 = curp_recognizer.analyze(text=text, entities=[\"CURP\"])\n",
    "            resultados_combinados = resultados0 + resultados1 + resultados2\n",
    "            texto_anonimizado = engine.anonymize(text=text, analyzer_results=resultados_combinados).text\n",
    "            return texto_anonimizado\n",
    "        elif isinstance(text, pd.Series):\n",
    "            return text.apply(anonymize_text)\n",
    "        else:\n",
    "            return text\n",
    "\n",
    "    \n",
    "    return df\n"
   ]
  },
  {
   "cell_type": "code",
   "execution_count": 43,
   "metadata": {},
   "outputs": [],
   "source": [
    "aber = anonymize_df_column(sample_df, \"descripcion_solicitud\")"
   ]
  },
  {
   "cell_type": "code",
   "execution_count": 47,
   "metadata": {},
   "outputs": [],
   "source": [
    "aber.to_csv(\"aber.csv\")"
   ]
  }
 ],
 "metadata": {
  "kernelspec": {
   "display_name": "Python 3",
   "language": "python",
   "name": "python3"
  },
  "language_info": {
   "codemirror_mode": {
    "name": "ipython",
    "version": 3
   },
   "file_extension": ".py",
   "mimetype": "text/x-python",
   "name": "python",
   "nbconvert_exporter": "python",
   "pygments_lexer": "ipython3",
   "version": "3.11.3"
  },
  "orig_nbformat": 4
 },
 "nbformat": 4,
 "nbformat_minor": 2
}
