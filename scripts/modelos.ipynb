{
 "cells": [
  {
   "cell_type": "code",
   "execution_count": 2,
   "metadata": {},
   "outputs": [],
   "source": [
    "import pandas as pd"
   ]
  },
  {
   "cell_type": "code",
   "execution_count": 3,
   "metadata": {},
   "outputs": [],
   "source": [
    "data = pd.read_csv(\"../data/clean_data.csv\", index_col=0)"
   ]
  },
  {
   "cell_type": "code",
   "execution_count": 4,
   "metadata": {},
   "outputs": [],
   "source": [
    "data['fecha_de_ingreso'] = pd.to_datetime(data['fecha_de_ingreso'])\n",
    "data['fecha_limite_de_respuesta'] = pd.to_datetime(data['fecha_limite_de_respuesta'])\n",
    "data['fecha_respuesta'] = pd.to_datetime(data['fecha_respuesta'])\n",
    "data['descripcion_solicitud'] = data['descripcion_solicitud'].astype('string')\n",
    "data[\"otros_datos\"] = data[\"otros_datos\"].astype(\"string\")\n",
    "data[\"dependencia\"] = data[\"dependencia\"].astype(\"string\")\n",
    "data[\"organo_de_gobierno\"] = data[\"organo_de_gobierno\"].astype(\"string\")\n",
    "data[\"estatus\"] = data[\"estatus\"].astype(\"string\")\n",
    "data[\"medio_entrada\"] = data[\"medio_entrada\"].astype(\"string\")\n",
    "data[\"respuesta\"] = data[\"respuesta\"].astype(\"string\")\n",
    "data[\"texto_de_la_respuesta\"] = data[\"texto_de_la_respuesta\"].astype(\"string\")\n",
    "data[\"pais\"] = data[\"pais\"].astype(\"string\")\n",
    "data[\"estado\"] = data[\"estado\"].astype(\"string\")"
   ]
  },
  {
   "cell_type": "markdown",
   "metadata": {},
   "source": [
    "# Modelos"
   ]
  },
  {
   "cell_type": "code",
   "execution_count": 24,
   "metadata": {},
   "outputs": [
    {
     "name": "stderr",
     "output_type": "stream",
     "text": [
      "\"apt-get\" no se reconoce como un comando interno o externo,\n",
      "programa o archivo por lotes ejecutable.\n"
     ]
    },
    {
     "name": "stderr",
     "output_type": "stream",
     "text": [
      "\"apt-get\" no se reconoce como un comando interno o externo,\n",
      "programa o archivo por lotes ejecutable.\n",
      "\"apt-get\" no se reconoce como un comando interno o externo,\n",
      "programa o archivo por lotes ejecutable.\n"
     ]
    }
   ],
   "source": [
    "!apt-get update\n",
    "!apt-get install python-dev #hunspell\n",
    "!apt-get install libhunspell-dev #hunspell"
   ]
  },
  {
   "cell_type": "code",
   "execution_count": 21,
   "metadata": {},
   "outputs": [
    {
     "name": "stdout",
     "output_type": "stream",
     "text": [
      "Collecting hunspell\n",
      "  Downloading hunspell-0.5.5.tar.gz (34 kB)\n",
      "  Installing build dependencies: started\n",
      "  Installing build dependencies: finished with status 'done'\n",
      "  Getting requirements to build wheel: started\n",
      "  Getting requirements to build wheel: finished with status 'done'\n",
      "  Preparing metadata (pyproject.toml): started\n",
      "  Preparing metadata (pyproject.toml): finished with status 'done'\n",
      "Building wheels for collected packages: hunspell\n",
      "  Building wheel for hunspell (pyproject.toml): started\n",
      "  Building wheel for hunspell (pyproject.toml): finished with status 'error'\n",
      "Failed to build hunspell\n"
     ]
    },
    {
     "name": "stderr",
     "output_type": "stream",
     "text": [
      "  error: subprocess-exited-with-error\n",
      "  \n",
      "  × Building wheel for hunspell (pyproject.toml) did not run successfully.\n",
      "  │ exit code: 1\n",
      "  ╰─> [5 lines of output]\n",
      "      running bdist_wheel\n",
      "      running build\n",
      "      running build_ext\n",
      "      building 'hunspell' extension\n",
      "      error: Microsoft Visual C++ 14.0 or greater is required. Get it with \"Microsoft C++ Build Tools\": https://visualstudio.microsoft.com/visual-cpp-build-tools/\n",
      "      [end of output]\n",
      "  \n",
      "  note: This error originates from a subprocess, and is likely not a problem with pip.\n",
      "  ERROR: Failed building wheel for hunspell\n",
      "ERROR: Could not build wheels for hunspell, which is required to install pyproject.toml-based projects\n"
     ]
    }
   ],
   "source": [
    "!pip install hunspell"
   ]
  },
  {
   "cell_type": "code",
   "execution_count": 5,
   "metadata": {},
   "outputs": [],
   "source": [
    "df = data.sample(n=10000, random_state=42)"
   ]
  },
  {
   "cell_type": "code",
   "execution_count": 22,
   "metadata": {},
   "outputs": [
    {
     "name": "stderr",
     "output_type": "stream",
     "text": [
      "[nltk_data] Downloading package vader_lexicon to\n",
      "[nltk_data]     C:\\Users\\dhumb\\AppData\\Roaming\\nltk_data...\n",
      "[nltk_data]   Package vader_lexicon is already up-to-date!\n"
     ]
    },
    {
     "ename": "ModuleNotFoundError",
     "evalue": "No module named 'hunspell'",
     "output_type": "error",
     "traceback": [
      "\u001b[1;31m---------------------------------------------------------------------------\u001b[0m",
      "\u001b[1;31mModuleNotFoundError\u001b[0m                       Traceback (most recent call last)",
      "Cell \u001b[1;32mIn[22], line 6\u001b[0m\n\u001b[0;32m      3\u001b[0m \u001b[39mfrom\u001b[39;00m \u001b[39mnltk\u001b[39;00m\u001b[39m.\u001b[39;00m\u001b[39msentiment\u001b[39;00m\u001b[39m.\u001b[39;00m\u001b[39mvader\u001b[39;00m \u001b[39mimport\u001b[39;00m SentimentIntensityAnalyzer\n\u001b[0;32m      4\u001b[0m sid \u001b[39m=\u001b[39m SentimentIntensityAnalyzer()\n\u001b[1;32m----> 6\u001b[0m \u001b[39mimport\u001b[39;00m \u001b[39mhunspell\u001b[39;00m \u001b[39m# Nos ayudará con los diccionarios en español\u001b[39;00m\n\u001b[0;32m      7\u001b[0m \u001b[39m# Buscar diccionarios en carpeta de instalacion\u001b[39;00m\n\u001b[0;32m      8\u001b[0m \u001b[39m# Más diccionarios de idiomas disponibles en: https://github.com/wooorm/dictionaries/tree/master/dictionaries\u001b[39;00m\n\u001b[0;32m      9\u001b[0m diccionario \u001b[39m=\u001b[39m hunspell\u001b[39m.\u001b[39mHunSpell(\u001b[39m'\u001b[39m\u001b[39m/content/es_MX.dic\u001b[39m\u001b[39m'\u001b[39m,\u001b[39m'\u001b[39m\u001b[39m/content/es_MX.aff\u001b[39m\u001b[39m'\u001b[39m)\n",
      "\u001b[1;31mModuleNotFoundError\u001b[0m: No module named 'hunspell'"
     ]
    }
   ],
   "source": [
    "import nltk\n",
    "nltk.download('vader_lexicon') # Obligatorio para usar SentimentIntensityAnalyzer\n",
    "from nltk.sentiment.vader import SentimentIntensityAnalyzer\n",
    "sid = SentimentIntensityAnalyzer()\n",
    "\n",
    "import hunspell # Nos ayudará con los diccionarios en español\n",
    "# Buscar diccionarios en carpeta de instalacion\n",
    "# Más diccionarios de idiomas disponibles en: https://github.com/wooorm/dictionaries/tree/master/dictionaries\n",
    "diccionario = hunspell.HunSpell('/content/es_MX.dic','/content/es_MX.aff')\n",
    "\n",
    "\n",
    "from nltk.sentiment.vader import SentimentIntensityAnalyzer\n",
    "sid = SentimentIntensityAnalyzer()"
   ]
  },
  {
   "cell_type": "code",
   "execution_count": null,
   "metadata": {},
   "outputs": [],
   "source": []
  },
  {
   "cell_type": "code",
   "execution_count": null,
   "metadata": {},
   "outputs": [],
   "source": []
  },
  {
   "cell_type": "code",
   "execution_count": null,
   "metadata": {},
   "outputs": [],
   "source": []
  }
 ],
 "metadata": {
  "kernelspec": {
   "display_name": "Python 3",
   "language": "python",
   "name": "python3"
  },
  "language_info": {
   "codemirror_mode": {
    "name": "ipython",
    "version": 3
   },
   "file_extension": ".py",
   "mimetype": "text/x-python",
   "name": "python",
   "nbconvert_exporter": "python",
   "pygments_lexer": "ipython3",
   "version": "3.11.3"
  },
  "orig_nbformat": 4
 },
 "nbformat": 4,
 "nbformat_minor": 2
}
