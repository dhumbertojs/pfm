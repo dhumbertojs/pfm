{
 "cells": [
  {
   "cell_type": "code",
   "execution_count": 12,
   "id": "f2deaa66",
   "metadata": {},
   "outputs": [],
   "source": [
    "import pandas as pd\n",
    "import urllib.request\n",
    "import json"
   ]
  },
  {
   "cell_type": "code",
   "execution_count": 13,
   "id": "dd386268",
   "metadata": {},
   "outputs": [],
   "source": [
    "url = 'https://datosabiertos.infocdmx.org.mx/api/3/action/datastore_search?resource_id=2a29d720-32bc-4268-90da-3b374aaa4379&limit=5&q=title:jones'\n",
    "response = urllib.request.urlopen(url)\n",
    "data = response.read()\n",
    "\n",
    "# Decodificar los datos de tipo bytes a una cadena de texto\n",
    "data_str = data.decode('utf-8')"
   ]
  },
  {
   "cell_type": "code",
   "execution_count": 14,
   "id": "0a53aa54",
   "metadata": {},
   "outputs": [],
   "source": [
    "# Cargar los datos JSON\n",
    "data_json = json.loads(data_str)\n",
    "\n",
    "# Acceder a los registros\n",
    "records = data_json['result']['records']"
   ]
  },
  {
   "cell_type": "code",
   "execution_count": 17,
   "id": "49127cd5",
   "metadata": {},
   "outputs": [
    {
     "data": {
      "text/html": [
       "<div>\n",
       "<style scoped>\n",
       "    .dataframe tbody tr th:only-of-type {\n",
       "        vertical-align: middle;\n",
       "    }\n",
       "\n",
       "    .dataframe tbody tr th {\n",
       "        vertical-align: top;\n",
       "    }\n",
       "\n",
       "    .dataframe thead th {\n",
       "        text-align: right;\n",
       "    }\n",
       "</style>\n",
       "<table border=\"1\" class=\"dataframe\">\n",
       "  <thead>\n",
       "    <tr style=\"text-align: right;\">\n",
       "      <th></th>\n",
       "    </tr>\n",
       "  </thead>\n",
       "  <tbody>\n",
       "  </tbody>\n",
       "</table>\n",
       "</div>"
      ],
      "text/plain": [
       "Empty DataFrame\n",
       "Columns: []\n",
       "Index: []"
      ]
     },
     "execution_count": 17,
     "metadata": {},
     "output_type": "execute_result"
    }
   ],
   "source": [
    "# Convertir los registros a un DataFrame de Pandas\n",
    "df = pd.DataFrame(records)\n",
    "\n",
    "df"
   ]
  },
  {
   "cell_type": "code",
   "execution_count": 19,
   "id": "7258b9b6",
   "metadata": {},
   "outputs": [
    {
     "ename": "ModuleNotFoundError",
     "evalue": "No module named 'ckanapi'",
     "output_type": "error",
     "traceback": [
      "\u001b[0;31m---------------------------------------------------------------------------\u001b[0m",
      "\u001b[0;31mModuleNotFoundError\u001b[0m                       Traceback (most recent call last)",
      "Cell \u001b[0;32mIn[19], line 1\u001b[0m\n\u001b[0;32m----> 1\u001b[0m \u001b[38;5;28;01mfrom\u001b[39;00m \u001b[38;5;21;01mckanapi\u001b[39;00m \u001b[38;5;28;01mimport\u001b[39;00m RemoteCKAN\n",
      "\u001b[0;31mModuleNotFoundError\u001b[0m: No module named 'ckanapi'"
     ]
    }
   ],
   "source": [
    "from ckanapi import RemoteCKAN"
   ]
  }
 ],
 "metadata": {
  "kernelspec": {
   "display_name": "Python 3 (ipykernel)",
   "language": "python",
   "name": "python3"
  },
  "language_info": {
   "codemirror_mode": {
    "name": "ipython",
    "version": 3
   },
   "file_extension": ".py",
   "mimetype": "text/x-python",
   "name": "python",
   "nbconvert_exporter": "python",
   "pygments_lexer": "ipython3",
   "version": "3.10.9"
  }
 },
 "nbformat": 4,
 "nbformat_minor": 5
}
